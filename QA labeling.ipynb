{
 "cells": [
  {
   "cell_type": "code",
   "execution_count": 1,
   "metadata": {},
   "outputs": [],
   "source": [
    "import os\n",
    "import numpy as np\n",
    "\n",
    "import pandas as pd\n",
    "import tensorflow as tf\n",
    "\n",
    "from transformers import BertTokenizer, RobertaTokenizer\n",
    "from Trainer import Trainer\n",
    "from preprocessing import dataPreprocessor\n",
    "from parameters import *\n",
    "\n",
    "from pathlib import Path\n",
    "\n",
    "import horovod.tensorflow as hvd"
   ]
  },
  {
   "cell_type": "code",
   "execution_count": 2,
   "metadata": {},
   "outputs": [],
   "source": [
    "        hvd.init()\n",
    "        gpus = tf.config.list_physical_devices('GPU') \n",
    "        for gpu in gpus:\n",
    "            print(gpu)\n",
    "            tf.config.experimental.set_memory_growth(gpu, True)\n",
    "        if gpus:\n",
    "            print(\"gpus \", gpus)\n",
    "            print(\"local rank \",hvd.local_rank())\n",
    "            tf.config.set_visible_devices(gpus[hvd.local_rank()], 'GPU')\n",
    "            print(tf.config.get_visible_devices())"
   ]
  },
  {
   "cell_type": "code",
   "execution_count": 3,
   "metadata": {},
   "outputs": [
    {
     "data": {
      "text/html": [
       "<div>\n",
       "<style scoped>\n",
       "    .dataframe tbody tr th:only-of-type {\n",
       "        vertical-align: middle;\n",
       "    }\n",
       "\n",
       "    .dataframe tbody tr th {\n",
       "        vertical-align: top;\n",
       "    }\n",
       "\n",
       "    .dataframe thead th {\n",
       "        text-align: right;\n",
       "    }\n",
       "</style>\n",
       "<table border=\"1\" class=\"dataframe\">\n",
       "  <thead>\n",
       "    <tr style=\"text-align: right;\">\n",
       "      <th></th>\n",
       "      <th>id</th>\n",
       "      <th>host</th>\n",
       "      <th>question_username</th>\n",
       "      <th>question_score</th>\n",
       "      <th>question_views</th>\n",
       "      <th>question_favs</th>\n",
       "      <th>answers_count</th>\n",
       "      <th>answers_max_score</th>\n",
       "      <th>answers_mean_score</th>\n",
       "      <th>question_title</th>\n",
       "      <th>question_body</th>\n",
       "      <th>answer_username</th>\n",
       "      <th>answer</th>\n",
       "      <th>answer_score</th>\n",
       "      <th>is_answer_accepted</th>\n",
       "    </tr>\n",
       "  </thead>\n",
       "  <tbody>\n",
       "    <tr>\n",
       "      <th>0</th>\n",
       "      <td>1</td>\n",
       "      <td>3dprinting.stackexchange.com</td>\n",
       "      <td>Adam Davis</td>\n",
       "      <td>3.767810</td>\n",
       "      <td>3.912607</td>\n",
       "      <td>0.000000</td>\n",
       "      <td>3.188060</td>\n",
       "      <td>3.749319</td>\n",
       "      <td>3.431946</td>\n",
       "      <td>How to obtain high resolution prints in a shor...</td>\n",
       "      <td>When I've printed an object I've had to choose...</td>\n",
       "      <td>hroncok</td>\n",
       "      <td>You could experiment with slicing. For example...</td>\n",
       "      <td>3.213366</td>\n",
       "      <td>2.07692</td>\n",
       "    </tr>\n",
       "    <tr>\n",
       "      <th>1</th>\n",
       "      <td>1</td>\n",
       "      <td>3dprinting.stackexchange.com</td>\n",
       "      <td>Adam Davis</td>\n",
       "      <td>3.767810</td>\n",
       "      <td>3.912607</td>\n",
       "      <td>0.000000</td>\n",
       "      <td>3.188060</td>\n",
       "      <td>3.749319</td>\n",
       "      <td>3.431946</td>\n",
       "      <td>How to obtain high resolution prints in a shor...</td>\n",
       "      <td>When I've printed an object I've had to choose...</td>\n",
       "      <td>plaintoothpaste</td>\n",
       "      <td>For FDM technologies in general with a single ...</td>\n",
       "      <td>1.606683</td>\n",
       "      <td>0.00000</td>\n",
       "    </tr>\n",
       "    <tr>\n",
       "      <th>2</th>\n",
       "      <td>4</td>\n",
       "      <td>3dprinting.stackexchange.com</td>\n",
       "      <td>Adam Davis</td>\n",
       "      <td>4.541637</td>\n",
       "      <td>3.921554</td>\n",
       "      <td>2.779972</td>\n",
       "      <td>4.670423</td>\n",
       "      <td>3.320479</td>\n",
       "      <td>3.431946</td>\n",
       "      <td>Are there any metals that exhibit a large glas...</td>\n",
       "      <td>Plastic is used in 3D FDM/FFF printing partly ...</td>\n",
       "      <td>TextGeek</td>\n",
       "      <td>I\"m no expert on this, but the article at http...</td>\n",
       "      <td>2.620387</td>\n",
       "      <td>0.00000</td>\n",
       "    </tr>\n",
       "    <tr>\n",
       "      <th>3</th>\n",
       "      <td>4</td>\n",
       "      <td>3dprinting.stackexchange.com</td>\n",
       "      <td>Adam Davis</td>\n",
       "      <td>4.541637</td>\n",
       "      <td>3.921554</td>\n",
       "      <td>2.779972</td>\n",
       "      <td>4.670423</td>\n",
       "      <td>3.320479</td>\n",
       "      <td>3.431946</td>\n",
       "      <td>Are there any metals that exhibit a large glas...</td>\n",
       "      <td>Plastic is used in 3D FDM/FFF printing partly ...</td>\n",
       "      <td>Ryan Carlyle</td>\n",
       "      <td>A few things are required for effective extrus...</td>\n",
       "      <td>2.845828</td>\n",
       "      <td>2.07692</td>\n",
       "    </tr>\n",
       "    <tr>\n",
       "      <th>4</th>\n",
       "      <td>2</td>\n",
       "      <td>3dprinting.stackexchange.com</td>\n",
       "      <td>kenorb</td>\n",
       "      <td>5.291027</td>\n",
       "      <td>5.526324</td>\n",
       "      <td>3.507934</td>\n",
       "      <td>5.199501</td>\n",
       "      <td>5.195138</td>\n",
       "      <td>4.521993</td>\n",
       "      <td>Is 3D printing safe for your health?</td>\n",
       "      <td>I would like to buy a 3D printer, but I'm conc...</td>\n",
       "      <td>Tom van der Zanden</td>\n",
       "      <td>There is very little information about safety ...</td>\n",
       "      <td>4.452511</td>\n",
       "      <td>2.07692</td>\n",
       "    </tr>\n",
       "  </tbody>\n",
       "</table>\n",
       "</div>"
      ],
      "text/plain": [
       "   id                          host question_username  question_score  \\\n",
       "0   1  3dprinting.stackexchange.com        Adam Davis        3.767810   \n",
       "1   1  3dprinting.stackexchange.com        Adam Davis        3.767810   \n",
       "2   4  3dprinting.stackexchange.com        Adam Davis        4.541637   \n",
       "3   4  3dprinting.stackexchange.com        Adam Davis        4.541637   \n",
       "4   2  3dprinting.stackexchange.com            kenorb        5.291027   \n",
       "\n",
       "   question_views  question_favs  answers_count  answers_max_score  \\\n",
       "0        3.912607       0.000000       3.188060           3.749319   \n",
       "1        3.912607       0.000000       3.188060           3.749319   \n",
       "2        3.921554       2.779972       4.670423           3.320479   \n",
       "3        3.921554       2.779972       4.670423           3.320479   \n",
       "4        5.526324       3.507934       5.199501           5.195138   \n",
       "\n",
       "   answers_mean_score                                     question_title  \\\n",
       "0            3.431946  How to obtain high resolution prints in a shor...   \n",
       "1            3.431946  How to obtain high resolution prints in a shor...   \n",
       "2            3.431946  Are there any metals that exhibit a large glas...   \n",
       "3            3.431946  Are there any metals that exhibit a large glas...   \n",
       "4            4.521993               Is 3D printing safe for your health?   \n",
       "\n",
       "                                       question_body     answer_username  \\\n",
       "0  When I've printed an object I've had to choose...             hroncok   \n",
       "1  When I've printed an object I've had to choose...     plaintoothpaste   \n",
       "2  Plastic is used in 3D FDM/FFF printing partly ...            TextGeek   \n",
       "3  Plastic is used in 3D FDM/FFF printing partly ...        Ryan Carlyle   \n",
       "4  I would like to buy a 3D printer, but I'm conc...  Tom van der Zanden   \n",
       "\n",
       "                                              answer  answer_score  \\\n",
       "0  You could experiment with slicing. For example...      3.213366   \n",
       "1  For FDM technologies in general with a single ...      1.606683   \n",
       "2  I\"m no expert on this, but the article at http...      2.620387   \n",
       "3  A few things are required for effective extrus...      2.845828   \n",
       "4  There is very little information about safety ...      4.452511   \n",
       "\n",
       "   is_answer_accepted  \n",
       "0             2.07692  \n",
       "1             0.00000  \n",
       "2             0.00000  \n",
       "3             2.07692  \n",
       "4             2.07692  "
      ]
     },
     "execution_count": 3,
     "metadata": {},
     "output_type": "execute_result"
    }
   ],
   "source": [
    "data_dir = \"google-quest-challenge/\"\n",
    "\n",
    "train_df = pd.read_csv(os.path.join(data_dir, \"train.csv\"))\n",
    "test_df = pd.read_csv(os.path.join(data_dir, \"test.csv\"))\n",
    "submit_df = pd.read_csv(os.path.join(data_dir, \"sample_submission.csv\"))\n",
    "stack_df = pd.read_csv(os.path.join(data_dir, \"stackexchange_data.csv\"))\n",
    "stack_df.head()"
   ]
  },
  {
   "cell_type": "code",
   "execution_count": 4,
   "metadata": {},
   "outputs": [],
   "source": [
    "train_X_df = train_df[train_columns]\n",
    "train_targets_df = train_df[target_columns]"
   ]
  },
  {
   "cell_type": "code",
   "execution_count": 5,
   "metadata": {},
   "outputs": [],
   "source": [
    "q_title = train_X_df['question_title'].values\n",
    "q_body = train_X_df['question_body'].values\n",
    "answer = train_X_df['answer'].values\n",
    "\n",
    "targets = train_targets_df.to_numpy()[:30]\n",
    "\n",
    "stack_q_title = stack_df['question_title'].values\n",
    "stack_q_body = stack_df['question_body'].values\n",
    "stack_answer = stack_df['answer'].values"
   ]
  },
  {
   "cell_type": "code",
   "execution_count": 6,
   "metadata": {},
   "outputs": [],
   "source": [
    "#tokenizer = BertTokenizer.from_pretrained('bert-base-uncased')\n",
    "\n",
    "tokenizer = RobertaTokenizer.from_pretrained('roberta-base')\n",
    "\n",
    "dataPreprocessor.logger = False\n",
    "dataPreprocessor.tokenizer = tokenizer\n",
    "dataPreprocessor.model = \"Roberta\""
   ]
  },
  {
   "cell_type": "code",
   "execution_count": 7,
   "metadata": {},
   "outputs": [
    {
     "name": "stderr",
     "output_type": "stream",
     "text": [
      "Token indices sequence length is longer than the specified maximum sequence length for this model (881 > 512). Running this sequence through the model will result in indexing errors\n",
      "Token indices sequence length is longer than the specified maximum sequence length for this model (898 > 512). Running this sequence through the model will result in indexing errors\n",
      "Token indices sequence length is longer than the specified maximum sequence length for this model (2900 > 512). Running this sequence through the model will result in indexing errors\n",
      "Token indices sequence length is longer than the specified maximum sequence length for this model (848 > 512). Running this sequence through the model will result in indexing errors\n",
      "Token indices sequence length is longer than the specified maximum sequence length for this model (976 > 512). Running this sequence through the model will result in indexing errors\n",
      "Token indices sequence length is longer than the specified maximum sequence length for this model (690 > 512). Running this sequence through the model will result in indexing errors\n"
     ]
    }
   ],
   "source": [
    "preprocessedInput = dataPreprocessor.preprocessBatch(q_body[:30], q_title[:30], answer[:30], max_seq_lengths=(26,260,210,500))"
   ]
  },
  {
   "cell_type": "code",
   "execution_count": 8,
   "metadata": {},
   "outputs": [
    {
     "name": "stderr",
     "output_type": "stream",
     "text": [
      "Token indices sequence length is longer than the specified maximum sequence length for this model (800 > 512). Running this sequence through the model will result in indexing errors\n",
      "Token indices sequence length is longer than the specified maximum sequence length for this model (646 > 512). Running this sequence through the model will result in indexing errors\n",
      "Token indices sequence length is longer than the specified maximum sequence length for this model (770 > 512). Running this sequence through the model will result in indexing errors\n",
      "Token indices sequence length is longer than the specified maximum sequence length for this model (958 > 512). Running this sequence through the model will result in indexing errors\n",
      "Token indices sequence length is longer than the specified maximum sequence length for this model (613 > 512). Running this sequence through the model will result in indexing errors\n",
      "Token indices sequence length is longer than the specified maximum sequence length for this model (674 > 512). Running this sequence through the model will result in indexing errors\n"
     ]
    }
   ],
   "source": [
    "preprocessedStack = dataPreprocessor.preprocessBatch(stack_q_body[:40], stack_q_title[:40], stack_answer[:40], max_seq_lengths=(26,260,210,500))"
   ]
  },
  {
   "cell_type": "code",
   "execution_count": 9,
   "metadata": {},
   "outputs": [
    {
     "name": "stdout",
     "output_type": "stream",
     "text": [
      "saving tokenizer in  ./checkpoints/RoBERTaForQALabeling_tokenizer_data\n"
     ]
    },
    {
     "data": {
      "text/plain": [
       "('./checkpoints/RoBERTaForQALabeling_tokenizer_data/vocab.json',\n",
       " './checkpoints/RoBERTaForQALabeling_tokenizer_data/merges.txt',\n",
       " './checkpoints/RoBERTaForQALabeling_tokenizer_data/special_tokens_map.json',\n",
       " './checkpoints/RoBERTaForQALabeling_tokenizer_data/added_tokens.json')"
      ]
     },
     "execution_count": 9,
     "metadata": {},
     "output_type": "execute_result"
    }
   ],
   "source": [
    "model_name = \"RoBERTaForQALabeling\"\n",
    "\n",
    "checkpoint_dir = os.path.join(save_dir, \"{}_tokenizer_data\" .format(model_name))\n",
    "Path(checkpoint_dir).mkdir(parents=True, exist_ok=True)\n",
    "print(\"saving tokenizer in \", checkpoint_dir)\n",
    "tokenizer.save_pretrained(checkpoint_dir)"
   ]
  },
  {
   "cell_type": "code",
   "execution_count": 10,
   "metadata": {},
   "outputs": [
    {
     "name": "stdout",
     "output_type": "stream",
     "text": [
      "Fold0/2 \n",
      "loaded model  RoBERTaForQALabeling\n"
     ]
    },
    {
     "name": "stderr",
     "output_type": "stream",
     "text": [
      "/usr/local/lib/python3.6/dist-packages/numpy/lib/function_base.py:2534: RuntimeWarning: invalid value encountered in true_divide\n",
      "  c /= stddev[:, None]\n",
      "/usr/local/lib/python3.6/dist-packages/numpy/lib/function_base.py:2535: RuntimeWarning: invalid value encountered in true_divide\n",
      "  c /= stddev[None, :]\n",
      "/usr/local/lib/python3.6/dist-packages/scipy/stats/_distn_infrastructure.py:903: RuntimeWarning: invalid value encountered in greater\n",
      "  return (a < x) & (x < b)\n",
      "/usr/local/lib/python3.6/dist-packages/scipy/stats/_distn_infrastructure.py:903: RuntimeWarning: invalid value encountered in less\n",
      "  return (a < x) & (x < b)\n",
      "/usr/local/lib/python3.6/dist-packages/scipy/stats/_distn_infrastructure.py:1912: RuntimeWarning: invalid value encountered in less_equal\n",
      "  cond2 = cond0 & (x <= _a)\n"
     ]
    },
    {
     "name": "stdout",
     "output_type": "stream",
     "text": [
      "epoch 0 train loss 0.17030954360961914 test loss 0.17202387750148773 test metric 0.007710277389597416 train metric 0.09657178126892761\n",
      "model for RoBERTaForQALabeling saved under ./checkpoints/RoBERTaForQALabeling_fold_0... \n",
      "epoch 1 train loss 0.16902130842208862 test loss 0.15670667588710785 test metric 0.017847665503889113 train metric 0.005440003542950807\n",
      "model for RoBERTaForQALabeling saved under ./checkpoints/RoBERTaForQALabeling_fold_0... \n",
      "Fold1/2 \n",
      "loaded model  RoBERTaForQALabeling\n"
     ]
    },
    {
     "name": "stderr",
     "output_type": "stream",
     "text": [
      "/usr/local/lib/python3.6/dist-packages/numpy/lib/function_base.py:2534: RuntimeWarning: invalid value encountered in true_divide\n",
      "  c /= stddev[:, None]\n",
      "/usr/local/lib/python3.6/dist-packages/numpy/lib/function_base.py:2535: RuntimeWarning: invalid value encountered in true_divide\n",
      "  c /= stddev[None, :]\n",
      "/usr/local/lib/python3.6/dist-packages/scipy/stats/_distn_infrastructure.py:903: RuntimeWarning: invalid value encountered in greater\n",
      "  return (a < x) & (x < b)\n",
      "/usr/local/lib/python3.6/dist-packages/scipy/stats/_distn_infrastructure.py:903: RuntimeWarning: invalid value encountered in less\n",
      "  return (a < x) & (x < b)\n",
      "/usr/local/lib/python3.6/dist-packages/scipy/stats/_distn_infrastructure.py:1912: RuntimeWarning: invalid value encountered in less_equal\n",
      "  cond2 = cond0 & (x <= _a)\n"
     ]
    },
    {
     "name": "stdout",
     "output_type": "stream",
     "text": [
      "epoch 0 train loss 0.18538109958171844 test loss 0.1830405741930008 test metric 0.012425756392580475 train metric 0.012675132175222304\n",
      "model for RoBERTaForQALabeling saved under ./checkpoints/RoBERTaForQALabeling_fold_1... \n",
      "epoch 1 train loss 0.17696423828601837 test loss 0.1664683073759079 test metric 0.0030140600185576526 train metric 0.010507294480287152\n"
     ]
    }
   ],
   "source": [
    "Trainer.train(model_name=model_name, \n",
    "              preprocessedInput=preprocessedInput, \n",
    "              targets=targets, \n",
    "              preprocessedPseudo=preprocessedStack)"
   ]
  },
  {
   "cell_type": "code",
   "execution_count": null,
   "metadata": {},
   "outputs": [
    {
     "name": "stdout",
     "output_type": "stream",
     "text": [
      "Fold0/2 \n",
      "best checkpoint for fold 0 restored from ./checkpoints/RoBERTaForQALabeling_fold_0 ...\n",
      "creating pseudo-labels...\n"
     ]
    }
   ],
   "source": [
    "Trainer.pseudo_predict(model_name=model_name, \n",
    "                       preprocessedPseudo=preprocessedStack, \n",
    "                       pseudo_df=stack_df[:40])"
   ]
  },
  {
   "cell_type": "code",
   "execution_count": null,
   "metadata": {},
   "outputs": [],
   "source": []
  }
 ],
 "metadata": {
  "kernelspec": {
   "display_name": "Python 3",
   "language": "python",
   "name": "python3"
  },
  "language_info": {
   "codemirror_mode": {
    "name": "ipython",
    "version": 3
   },
   "file_extension": ".py",
   "mimetype": "text/x-python",
   "name": "python",
   "nbconvert_exporter": "python",
   "pygments_lexer": "ipython3",
   "version": "3.6.9"
  }
 },
 "nbformat": 4,
 "nbformat_minor": 4
}
